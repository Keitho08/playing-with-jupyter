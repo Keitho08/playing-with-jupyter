{
 "cells": [
  {
   "cell_type": "markdown",
   "metadata": {},
   "source": [
    "# Tasks\n",
    "***"
   ]
  },
  {
   "cell_type": "markdown",
   "metadata": {},
   "source": [
    "These are my solutions to the task assessment. The author is Keith Brazill (G00387845@gmit.ie)\n",
    "\n",
    "References:\n",
    "\n",
    "1. https://tour.golang.org/flowcontrol/8 (Sqrt Tutorial)\n",
    "2. https://docs.python.org/3/tutorial/floatingpoint.html\n",
    "3. https://guides.github.com/features/mastering-markdown/\n",
    "4. https://www.mathjax.org/\n"
   ]
  },
  {
   "cell_type": "markdown",
   "metadata": {},
   "source": [
    "### Task: Calculate a square root\n",
    "***\n",
    "\n",
    "We can calculate the sqrt of a number by using Newton's Method [1].\n",
    "To find the square root $z$ of a number $x$, we can iterate using the following equation.\n",
    "\n",
    "$$ z_{next} = z - \\frac{z^2 - x}{2z} $$\n",
    "\n",
    "[1] A Tour of Go; Excercise: Loops and Functions; https://tour.golang.org/flowcontrol/8 (Sqrt Tutorial)"
   ]
  },
  {
   "cell_type": "markdown",
   "metadata": {},
   "source": [
    "### Tests of the function\n",
    "Here we test the function with some known values."
   ]
  },
  {
   "cell_type": "code",
   "execution_count": 1,
   "metadata": {},
   "outputs": [],
   "source": [
    "def sqrt(x):\n",
    "    \"\"\"\n",
    "    A function to calculate the square root of a number x.\n",
    "    \"\"\"\n",
    "    #initial guess for sqrt  z\n",
    "    z = x / 2 \n",
    "    # loop until we are happy with the accuracy\n",
    "    while abs(x - (z * z)) > 0.0000001: #abs absoulute makes it a positive value, larger decimal place = >accuracy\n",
    "        # Calculate a better guess for the sqrt\n",
    "        z -= (z*z - x) / (2*z)\n",
    "    #return the approximate sqrt of x\n",
    "    return z"
   ]
  },
  {
   "cell_type": "code",
   "execution_count": 2,
   "metadata": {},
   "outputs": [
    {
     "data": {
      "text/plain": [
       "10.000000000107446"
      ]
     },
     "execution_count": 2,
     "metadata": {},
     "output_type": "execute_result"
    }
   ],
   "source": [
    "#Test the function on 100.\n",
    "sqrt(100)"
   ]
  },
  {
   "cell_type": "code",
   "execution_count": 3,
   "metadata": {},
   "outputs": [
    {
     "data": {
      "text/plain": [
       "1.4142135623746899"
      ]
     },
     "execution_count": 3,
     "metadata": {},
     "output_type": "execute_result"
    }
   ],
   "source": [
    "#Test the function on 2.\n",
    "sqrt(2)"
   ]
  },
  {
   "cell_type": "code",
   "execution_count": 4,
   "metadata": {},
   "outputs": [
    {
     "data": {
      "text/plain": [
       "1.4142135623730951"
      ]
     },
     "execution_count": 4,
     "metadata": {},
     "output_type": "execute_result"
    }
   ],
   "source": [
    "#This is just a check of above using math function.\n",
    "import math\n",
    "math.sqrt(2)"
   ]
  },
  {
   "cell_type": "markdown",
   "metadata": {},
   "source": [
    "***"
   ]
  }
 ],
 "metadata": {
  "kernelspec": {
   "display_name": "Python 3",
   "language": "python",
   "name": "python3"
  },
  "language_info": {
   "codemirror_mode": {
    "name": "ipython",
    "version": 3
   },
   "file_extension": ".py",
   "mimetype": "text/x-python",
   "name": "python",
   "nbconvert_exporter": "python",
   "pygments_lexer": "ipython3",
   "version": "3.8.5"
  }
 },
 "nbformat": 4,
 "nbformat_minor": 4
}
